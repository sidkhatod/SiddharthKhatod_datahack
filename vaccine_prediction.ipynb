{
 "cells": [
  {
   "cell_type": "markdown",
   "metadata": {},
   "source": [
    "# Vaccine Prediction Model\n",
    "\n",
    "This notebook demonstrates how to load and inspect datasets for a vaccine prediction model. The datasets include training features and labels, which will be used for building a predictive model."
   ]
  },
  {
   "cell_type": "code",
   "execution_count": 1,
   "metadata": {},
   "outputs": [],
   "source": [
    "# Import necessary libraries\n",
    "import pandas as pd\n",
    "import numpy as np"
   ]
  },
  {
   "cell_type": "markdown",
   "metadata": {},
   "source": [
    "## Step 1: Load the Data\n",
    "\n",
    "We will load the training features and labels from CSV files into pandas DataFrames."
   ]
  },
  {
   "cell_type": "code",
   "execution_count": 2,
   "metadata": {},
   "outputs": [],
   "source": [
    "# Load the training and test datasets\n",
    "train_features = pd.read_csv('training_set_features.csv')\n",
    "train_labels = pd.read_csv('training_set_labels.csv')\n",
    "test_features = pd.read_csv('test_set_features.csv')\n",
    "\n",
    "# Display the first few rows of each dataframe to inspect them\n",
    "print(\"Training Features:\")\n",
    "print(train_features.head())\n",
    "\n",
    "print(\"\\nTraining Labels:\")\n",
    "print(train_labels.head())\n",
    "\n",
    "print(\"\\nTest Features:\")\n",
    "print(test_features.head())"
   ]
  },
  {
   "cell_type": "markdown",
   "metadata": {},
   "source": [
    "## Step 2: Data Preprocessing\n",
    "\n",
    "### Handling Missing Values\n",
    "Identify and impute or drop missing values.\n",
    "\n",
    "### Encoding Categorical Variables\n",
    "Convert categorical variables into numerical formats using techniques like one-hot encoding.\n",
    "\n",
    "### Normalization/Scaling\n",
    "Standardize numerical features if necessary."
   ]
  },
  {
   "cell_type": "code",
   "execution_count": 3,
   "metadata": {},
   "outputs": [],
   "source": [
    "from sklearn.preprocessing import OneHotEncoder, StandardScaler\n",
    "from sklearn.impute import SimpleImputer\n",
    "from sklearn.compose import ColumnTransformer\n",
    "from sklearn.pipeline import Pipeline\n",
    "\n",
    "# Identifying categorical and numerical columns\n",
    "categorical_cols = train_features.select_dtypes(include=['object']).columns\n",
    "numerical_cols = train_features.select_dtypes(include=['int64', 'float64']).columns\n",
    "\n",
    "# Defining preprocessing for numerical and categorical data\n",
    "numerical_transformer = Pipeline(steps=[\n",
    "    ('imputer', SimpleImputer(strategy='mean')),\n",
    "    ('scaler', StandardScaler())\n",
    "])\n",
    "\n",
    "categorical_transformer = Pipeline(steps=[\n",
    "    ('imputer', SimpleImputer(strategy='most_frequent')),\n",
    "    ('onehot', OneHotEncoder(handle_unknown='ignore'))\n",
    "])\n",
    "\n",
    "# Combining preprocessing steps\n",
    "preprocessor = ColumnTransformer(\n",
    "    transformers=[\n",
    "        ('num', numerical_transformer, numerical_cols),\n",
    "        ('cat', categorical_transformer, categorical_cols)\n",
    "    ])\n",
    "\n",
    "# Applying the transformations\n",
    "X_train = preprocessor.fit_transform(train_features)\n",
    "X_test = preprocessor.transform(test_features)\n",
    "\n",
    "# Separate target variables\n",
    "y_train_xyz = train_labels['xyz_vaccine']\n",
    "y_train_seasonal = train_labels['seasonal_vaccine']"
   ]
  },
  {
   "cell_type": "markdown",
   "metadata": {},
   "source": [
    "## Step 3: Model Training and Evaluation\n",
    "\n",
    "Train a machine learning model for each target variable (xyz_vaccine and seasonal_vaccine). We will use Random Forest Classifier in this example.\n",
    "\n",
    "### Model Training\n",
    "We will train a Random Forest model for each target variable.\n",
    "\n",
    "### Model Evaluation\n",
    "We will use cross-validation and calculate the ROC AUC for each model to evaluate performance."
   ]
  },
  {
   "cell_type": "code",
   "execution_count": 4,
   "metadata": {},
   "outputs": [],
   "source": [
    "from sklearn.ensemble import RandomForestClassifier\n",
    "from sklearn.model_selection import cross_val_score\n",
    "from sklearn.metrics import roc_auc_score\n",
    "\n",
    "# Training model for xyz_vaccine\n",
    "model_xyz = RandomForestClassifier()\n",
    "model_xyz.fit(X_train, y_train_xyz)\n",
    "scores_xyz = cross_val_score(model_xyz, X_train, y_train_xyz, cv=5, scoring='roc_auc')\n",
    "print(\"ROC AUC for xyz_vaccine:\", scores_xyz.mean())\n",
    "\n",
    "# Training model for seasonal_vaccine\n",
    "model_seasonal = RandomForestClassifier()\n",
    "model_seasonal.fit(X_train, y_train_seasonal)\n",
    "scores_seasonal = cross_val_score(model_seasonal, X_train, y_train_seasonal, cv=5, scoring='roc_auc')\n",
    "print(\"ROC AUC for seasonal_vaccine:\", scores_seasonal.mean())"
   ]
  },
  {
   "cell_type": "markdown",
   "metadata": {},
   "source": [
    "## Step 4: Generate Predictions\n",
    "\n",
    "Predict probabilities for the test set and save the results in the submission format."
   ]
  },
  {
   "cell_type": "code",
   "execution_count": 5,
   "metadata": {},
   "outputs": [],
   "source": [
    "# Predict probabilities for the test set\n",
    "predictions_xyz = model_xyz.predict_proba(X_test)[:, 1]\n",
    "predictions_seasonal = model_seasonal.predict_proba(X_test)[:, 1]\n",
    "\n",
    "# Prepare the submission file\n",
    "submission = pd.DataFrame({\n",
    "    'respondent_id': test_features['respondent_id'],\n",
    "    'xyz_vaccine': predictions_xyz,\n",
    "    'seasonal_vaccine': predictions_seasonal\n",
    "})\n",
    "\n",
    "submission.to_csv('submission.csv', index=False)"
   ]
  }
 ],
 "metadata": {
  "kernelspec": {
   "display_name": "Python 3",
   "language": "python",
   "name": "python3"
  },
  "language_info": {
   "codemirror_mode": {
    "name": "ipython",
    "version": 3
   },
   "file_extension": ".py",
   "mimetype": "text/x-python",
   "name": "python",
   "nbconvert_exporter": "python",
   "pygments_lexer": "ipython3",
   "version": "3.8.8"
  }
 },
 "nbformat": 4,
 "nbformat_minor": 5
}
